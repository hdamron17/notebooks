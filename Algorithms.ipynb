{
 "cells": [
  {
   "cell_type": "code",
   "execution_count": 28,
   "metadata": {},
   "outputs": [],
   "source": [
    "from random import randint\n",
    "from time import time\n",
    "def get_time():\n",
    "    return int(time()*1000)"
   ]
  },
  {
   "cell_type": "markdown",
   "metadata": {},
   "source": [
    "# Data Structures\n",
    "\n",
    "* Arrays\n",
    "    * Fast access $O(1)$\n",
    "    * Fast insertion $O(1)$\n",
    "    * Slow search $O(n)$\n",
    "    * If the data is constant, it can be more efficient to sort data once $O(n\\log n)$\n",
    "    \n",
    "## More advanced\n",
    "* Key Value Structures\n",
    "    * Usually implemented as a red black tree\n",
    "    * Medium access $O(log n)$\n",
    "    * Medium search $O(log n)$\n",
    "    * Medium insertion $O(log n)$\n",
    "* Linked structures\n",
    "    * Lists/stacks/queues\n",
    "    * Slow search $O(n)$\n",
    "    * Fast access $O(1)$\n",
    "    * Fast insertion $O(1)$ when implemented correctly\n",
    "    * Useful when you need to keep order of steps, like traversing a graph\n",
    "* More niche\n",
    "    * Graphs\n",
    "    * Trees\n",
    "    * Heaps\n",
    "    * Tries\n",
    "    * Vectors\n",
    "    * etc\n",
    "    * Can be useful for certain problems\n"
   ]
  },
  {
   "cell_type": "markdown",
   "metadata": {},
   "source": [
    "# Solve the problem\n",
    "\n",
    "This is the first step. Try to pull out some paper and figure out a systematic way to solve the problem. Do not begin to optimize when you do not know if you are solving the correct problem. If your solution is too slow then worry about making it faster. There are multiple steps you should take to try and optimize your solution.\n",
    "\n",
    "1. Some precomputation or transformation of the data set\n",
    "    * If you find yourself searching for a value, then removing it and researching, you may benefit by transforming this data into something that is cheaper to work on."
   ]
  },
  {
   "cell_type": "code",
   "execution_count": 40,
   "metadata": {},
   "outputs": [
    {
     "name": "stdout",
     "output_type": "stream",
     "text": [
      "The naive solution: 50 took 843 milliseconds\n",
      "The faster solution: 50 took 1 milliseconds\n"
     ]
    }
   ],
   "source": [
    "## Finding the median\n",
    "n = 10000 # 100 vs 10000\n",
    "nums = [randint(0,100) for _ in range(n)]\n",
    "\n",
    "## Algorithm starts here\n",
    "\n",
    "def naive_solution(n, nums):\n",
    "    for i in range((n-1)//2):\n",
    "        min_val = min(nums)\n",
    "        nums.remove(min_val)\n",
    "    median = min(nums)\n",
    "    if n & 1 == 0: # if n is even\n",
    "        nums.remove(median)\n",
    "        median += min(nums)\n",
    "        median //= 2\n",
    "    return median\n",
    "\n",
    "## Faster algorithm starts here\n",
    "\n",
    "def presort_solution(n, nums):\n",
    "    nums.sort()\n",
    "    return (nums[(n-1)//2] + nums[n//2])//2\n",
    "## End Algorithms\n",
    "\n",
    "## Timing\n",
    "start_time = get_time()\n",
    "solution = naive_solution(n, nums[:])\n",
    "total_time = get_time() - start_time\n",
    "print(\"The naive solution: {} took {} milliseconds\".format(solution, total_time))\n",
    "\n",
    "start_time = get_time()\n",
    "solution = presort_solution(n, nums[:])\n",
    "total_time = get_time() - start_time\n",
    "print(\"The faster solution: {} took {} milliseconds\".format(solution, total_time))"
   ]
  },
  {
   "cell_type": "markdown",
   "metadata": {},
   "source": [
    "## More advanced techniques\n",
    "\n",
    "### Be greedy\n",
    "    * Sometimes you want to make the best decision you can at every step\n",
    "    * There are some cases where this is the optimal solution\n",
    "    * Typically in graph problems this can be useful, however typically greedy algorithms are approximate solutions\n",
    "        * There exists a few cases where they are the correct solution"
   ]
  },
  {
   "cell_type": "code",
   "execution_count": 46,
   "metadata": {},
   "outputs": [
    {
     "name": "stdout",
     "output_type": "stream",
     "text": [
      "[[0, 70, 77, 62, 102, 94, 116, 134, 38, 96], [70, 0, 104, 16, 98, 31, 60, 67, 70, 121], [77, 104, 0, 88, 45, 105, 108, 169, 41, 173], [62, 16, 88, 0, 82, 32, 56, 82, 56, 127], [102, 98, 45, 82, 0, 85, 77, 151, 65, 195], [94, 31, 105, 32, 85, 0, 28, 66, 82, 153], [116, 60, 108, 56, 77, 28, 0, 82, 95, 181], [134, 67, 169, 82, 151, 66, 82, 0, 138, 151], [38, 70, 41, 56, 65, 82, 95, 138, 0, 134], [96, 121, 173, 127, 195, 153, 181, 151, 134, 0]]\n",
      "[[1, 3], [5, 6], [1, 5], [0, 8], [2, 8], [2, 4], [3, 8], [5, 7], [0, 9]]\n"
     ]
    }
   ],
   "source": [
    "# Copyright 2019 Justin Baum\n",
    "# Kruskals Algorithm\n",
    "# kruskals-algo.py\n",
    "\n",
    "import matplotlib.pyplot as plt\n",
    "import random\n",
    "#import networkutils as nu\n",
    "\n",
    "\"\"\"\n",
    "1. Sort all the edges in non-decreasing order of their weight.\n",
    "2. Pick the smallest edge. Check if it forms a cycle with the spanning tree formed so far.\n",
    "    If cycle is not formed, include this edge. Else, discard it.\n",
    "3. Repeat step#2 until there are (V-1) edges in the spanning tree\n",
    "\"\"\"\n",
    "\n",
    "def kruskals(matrix):\n",
    "  m = len(matrix)\n",
    "  # Get all edges\n",
    "  E = [[i, j, matrix[i][j]] for i in range(m) for j in range(i+1,m)]\n",
    "  # Sort all edges by weight\n",
    "  E.sort(key = lambda x: x[2])\n",
    "  tree = []\n",
    "  dj = list(range(m))\n",
    "  # Add smallest edge that does not form a cycle until you have a spanning tree\n",
    "  while len(tree) <= m - 2:\n",
    "    leg = E[0]\n",
    "    E = E[1:]\n",
    "    if find(leg[0],dj) != find(leg[1], dj):\n",
    "      union(leg[0],leg[1],dj)\n",
    "      tree.append(leg[:2])\n",
    "  # This is the minimum spanning tree\n",
    "  return tree\n",
    "\n",
    "### Disjoint Set\n",
    "\n",
    "def find(i, dj):\n",
    "  while dj[i] != i:\n",
    "    i = dj[i]\n",
    "  return i\n",
    "\n",
    "def union(i, j, dj):\n",
    "  a = find(i, dj)\n",
    "  b = find(j, dj)\n",
    "  dj[a] = b\n",
    "\n",
    "## Utils\n",
    "def gennodes(n, size = 200):\n",
    "  graph = {}\n",
    "  for i in range(n):\n",
    "    x = random.randint(0, size)\n",
    "    y = random.randint(0,size)\n",
    "    graph[i] = (x,y)\n",
    "  return graph\n",
    "\n",
    "def makematrix(V):\n",
    "  m = len(V)\n",
    "  matrix = [[0 for i in range(m)] for j in range(m)]\n",
    "  for node in V:\n",
    "    for neighbor in V:\n",
    "      point1 = V[node]\n",
    "      point2 = V[neighbor]\n",
    "      matrix[node][neighbor] = int(dist(point1, point2)**0.5)\n",
    "  return matrix\n",
    "\n",
    "def dist(point1, point2):\n",
    "  return (point1[0] - point2[0])**2 + (point1[1] - point2[1])**2\n",
    "\n",
    "## Run code\n",
    "\n",
    "V = gennodes(10)\n",
    "matrix = makematrix(V)\n",
    "print(matrix)\n",
    "print(kruskals(matrix))\n"
   ]
  },
  {
   "cell_type": "markdown",
   "metadata": {},
   "source": [
    "![](kruskal1.gif)"
   ]
  },
  {
   "cell_type": "markdown",
   "metadata": {},
   "source": [
    "## Be Dynamic\n",
    "    * If you are recomputing a solution over and over, then it may be worth to keep a tab on previous solutions"
   ]
  },
  {
   "cell_type": "code",
   "execution_count": 97,
   "metadata": {},
   "outputs": [
    {
     "name": "stdout",
     "output_type": "stream",
     "text": [
      "The naive solution: 0,1,1,2,3,5,8,13,21,34,55,89,144,233,377,610,987,1597,2584,4181,6765,10946,17711,28657,46368,75025,121393,196418,317811,514229,832040,1346269,2178309 took 2344 milliseconds\n",
      "The faster solution: 0, 1, 1, 2, 3, 5, 8, 13, 21, 34, 55, 89, 144, 233, 377, 610, 987, 1597, 2584, 4181, 6765, 10946, 17711, 28657, 46368, 75025, 121393, 196418, 317811, 514229, 832040, 1346269, 2178309 took 0 milliseconds\n",
      "The precompute solution: 0, 1, 1, 2, 3, 5, 8, 13, 21, 34, 55, 89, 144, 233, 377, 610, 987, 1597, 2584, 4181, 6765, 10946, 17711, 28657, 46368, 75025, 121393, 196418, 317811, 514229, 832040, 1346269, 2178309 took 0 milliseconds\n"
     ]
    }
   ],
   "source": [
    "n = 33 # 30 vs 33\n",
    "N = 1000\n",
    "# Fibonacci\n",
    "\n",
    "def naive_fib(n):\n",
    "    if n == 0:\n",
    "        return 0\n",
    "    if n == 1:\n",
    "        return 1\n",
    "    return naive_fib(n-1) + naive_fib(n-2)\n",
    "\n",
    "def dynamic_fib(n):\n",
    "    fibs = [0,1]\n",
    "    while len(fibs) <= n:\n",
    "        fibs.append(fibs[-1] + fibs[-2])\n",
    "    return fibs[n]\n",
    "\n",
    "## Sometimes we can just precompute\n",
    "\n",
    "def one_pass_fib(n):\n",
    "    fibs = [0,1]\n",
    "    while len(fibs) <= n:\n",
    "        fibs.append(fibs[-1] + fibs[-2])\n",
    "    return fibs\n",
    "global fibs\n",
    "fibs = one_pass_fib(n)\n",
    "\n",
    "def precompute_fib(n):\n",
    "    global fibs\n",
    "    return fibs[n]\n",
    "\n",
    "## Timing\n",
    "start_time = get_time()\n",
    "solutions = [naive_fib(i) for i in range(n)]\n",
    "total_time = get_time() - start_time\n",
    "solutions = [str(i) for i in solutions]\n",
    "print(\"The naive solution: {} took {} milliseconds\".format(\",\".join(solutions), total_time))\n",
    "\n",
    "#n = 1000\n",
    "dontprint = False\n",
    "\n",
    "start_time = get_time()\n",
    "solutions = [dynamic_fib(i) for i in range(n)]\n",
    "total_time = get_time() - start_time\n",
    "solutions = [str(i) for i in solutions]\n",
    "print(\"The faster solution: {} took {} milliseconds\".format(\"\" if dontprint else \", \".join(solutions), total_time))\n",
    "\n",
    "#n = 10000\n",
    "start_time = get_time()\n",
    "fibs = one_pass_fib(n)\n",
    "solutions = [precompute_fib(i) for i in range(n)]\n",
    "total_time = get_time() - start_time\n",
    "solutions = [str(i) for i in solutions]\n",
    "print(\"The precompute solution: {} took {} milliseconds\".format(\"\" if dontprint else \", \".join(solutions), total_time))"
   ]
  },
  {
   "cell_type": "markdown",
   "metadata": {},
   "source": [
    "## Make the problem smaller\n",
    "\n",
    "If you can split the problem into smaller problems, it is usually a lot eassier to find what you are looking for.\n",
    "\n",
    "A famous example is sorting."
   ]
  },
  {
   "cell_type": "code",
   "execution_count": 139,
   "metadata": {},
   "outputs": [
    {
     "name": "stdout",
     "output_type": "stream",
     "text": [
      "The bubblesort solution:  took 1545 milliseconds\n",
      "The quicksort solution:  took 26 milliseconds\n"
     ]
    }
   ],
   "source": [
    "n = 5000 # 40 vs 5000\n",
    "def bubblesort(nums):\n",
    "    nums = nums[:] # new array\n",
    "    n = len(nums)\n",
    "    for i in range(n-1):\n",
    "        for j in range(i+1, n):\n",
    "            if nums[j] < nums[i]:\n",
    "                nums[i], nums[j] = nums[j], nums[i]\n",
    "    return nums\n",
    "# Taken from O'Reilly Python Cookbook\n",
    "# https://www.oreilly.com/library/view/python-cookbook/0596001673/ch02s12.html\n",
    "def qsort(L):\n",
    "    # to slow down quicksort even more\n",
    "    i = 0\n",
    "    for _ in range(250): #250 iterations of slowing it down\n",
    "        i = i + 1\n",
    "    # done making it slow\n",
    "    if not L: return L\n",
    "    pivot = L[0]\n",
    "    def lt(x, pivot=pivot): return x<pivot\n",
    "    def ge(x, pivot=pivot): return x>=pivot\n",
    "    return qsort(list(filter(lt, L[1:])))+[pivot]+qsort(list(filter(ge, L[1:])))\n",
    "nums = [randint(0,n**2) for i in range(n)]\n",
    "dontprint = True\n",
    "\n",
    "start_time = get_time()\n",
    "solutions = bubblesort(nums)\n",
    "total_time = get_time() - start_time\n",
    "solutions = [str(i) for i in solutions]\n",
    "print(\"The bubblesort solution: {} took {} milliseconds\".format(\"\" if dontprint else \", \".join(solutions), total_time))\n",
    "\n",
    "start_time = get_time()\n",
    "fibs = one_pass_fib(n)\n",
    "solutions = qsort(nums)\n",
    "total_time = get_time() - start_time\n",
    "solutions = [str(i) for i in solutions]\n",
    "print(\"The quicksort solution: {} took {} milliseconds\".format(\"\" if dontprint else \", \".join(solutions), total_time))"
   ]
  },
  {
   "cell_type": "markdown",
   "metadata": {},
   "source": [
    "![](sorting.gif)"
   ]
  },
  {
   "cell_type": "code",
   "execution_count": null,
   "metadata": {},
   "outputs": [],
   "source": []
  }
 ],
 "metadata": {
  "kernelspec": {
   "display_name": "Python 3",
   "language": "python",
   "name": "python3"
  },
  "language_info": {
   "codemirror_mode": {
    "name": "ipython",
    "version": 3
   },
   "file_extension": ".py",
   "mimetype": "text/x-python",
   "name": "python",
   "nbconvert_exporter": "python",
   "pygments_lexer": "ipython3",
   "version": "3.8.5"
  }
 },
 "nbformat": 4,
 "nbformat_minor": 4
}
